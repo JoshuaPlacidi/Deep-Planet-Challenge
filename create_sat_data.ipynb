{
 "cells": [
  {
   "cell_type": "markdown",
   "metadata": {},
   "source": [
    "## Create the sat_data.json"
   ]
  },
  {
   "cell_type": "code",
   "execution_count": 1,
   "metadata": {},
   "outputs": [],
   "source": [
    "from tqdm.notebook import tqdm\n",
    "import torch\n",
    "import os, json"
   ]
  },
  {
   "cell_type": "code",
   "execution_count": 2,
   "metadata": {},
   "outputs": [],
   "source": [
    "anno_dir = 'F:/Dev/Datasets/DOTA/annotations/train'\n",
    "data = {}\n",
    "data['images'] = []\n",
    "\n",
    "IMAGE_FOLDER = 'F:/Dev/Datasets/DOTA/images/train/'\n",
    "\n",
    "for file_path in os.listdir(anno_dir):\n",
    "    \n",
    "    file = open(anno_dir + '/' + file_path)\n",
    "    \n",
    "    line_count = 0\n",
    "    \n",
    "    instances = []\n",
    "    for line in file:\n",
    "        if line_count >= 2:\n",
    "            instance = {\n",
    "                'bbox': list(map(int, map(float,[line.split()[0], line.split()[1], line.split()[2], line.split()[3], line.split()[4], line.split()[5], line.split()[6], line.split()[7]]))),\n",
    "                'class': line.split()[8],\n",
    "                'visibility': line.split()[9]\n",
    "            }\n",
    "            instances.append(instance)\n",
    "        line_count+=1\n",
    "    data['images'].append({\n",
    "        'path': IMAGE_FOLDER + file_path[:-3] + 'png',\n",
    "        'instances': instances\n",
    "    })\n",
    "\n",
    "with open('sat_data.json', 'w') as outfile:\n",
    "    json.dump(data, outfile)"
   ]
  },
  {
   "cell_type": "code",
   "execution_count": 3,
   "metadata": {},
   "outputs": [
    {
     "data": {
      "application/vnd.jupyter.widget-view+json": {
       "model_id": "2016b304652f4314a88a7952bdf6d5c9",
       "version_major": 2,
       "version_minor": 0
      },
      "text/plain": [
       "HBox(children=(FloatProgress(value=0.0, max=1411.0), HTML(value='')))"
      ]
     },
     "metadata": {},
     "output_type": "display_data"
    },
    {
     "name": "stdout",
     "output_type": "stream",
     "text": [
      "0 F:/Dev/Datasets/DOTA/images/train/P0000.png\n",
      "1 F:/Dev/Datasets/DOTA/images/train/P0001.png\n",
      "2 F:/Dev/Datasets/DOTA/images/train/P0002.png\n",
      "3 F:/Dev/Datasets/DOTA/images/train/P0005.png\n",
      "4 F:/Dev/Datasets/DOTA/images/train/P0008.png\n",
      "5 F:/Dev/Datasets/DOTA/images/train/P0010.png\n",
      "6 F:/Dev/Datasets/DOTA/images/train/P0011.png\n",
      "7 F:/Dev/Datasets/DOTA/images/train/P0012.png\n",
      "8 F:/Dev/Datasets/DOTA/images/train/P0013.png\n",
      "9 F:/Dev/Datasets/DOTA/images/train/P0018.png\n",
      "10 F:/Dev/Datasets/DOTA/images/train/P0020.png\n",
      "\n"
     ]
    }
   ],
   "source": [
    "with open('sat_data.json') as file:\n",
    "    json_data = json.load(file)\n",
    "\n",
    "dataset_dicts = []\n",
    "for idx, img in enumerate(tqdm(json_data['images'])):\n",
    "    print(idx, img['path'])\n",
    "    if idx == 10: break"
   ]
  },
  {
   "cell_type": "code",
   "execution_count": null,
   "metadata": {},
   "outputs": [],
   "source": []
  }
 ],
 "metadata": {
  "kernelspec": {
   "display_name": "Python 3",
   "language": "python",
   "name": "python3"
  },
  "language_info": {
   "codemirror_mode": {
    "name": "ipython",
    "version": 3
   },
   "file_extension": ".py",
   "mimetype": "text/x-python",
   "name": "python",
   "nbconvert_exporter": "python",
   "pygments_lexer": "ipython3",
   "version": "3.8.3"
  }
 },
 "nbformat": 4,
 "nbformat_minor": 4
}
